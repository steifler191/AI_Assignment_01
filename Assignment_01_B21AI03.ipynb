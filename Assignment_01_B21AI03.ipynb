{
  "nbformat": 4,
  "nbformat_minor": 0,
  "metadata": {
    "colab": {
      "provenance": []
    },
    "kernelspec": {
      "name": "python3",
      "display_name": "Python 3"
    },
    "language_info": {
      "name": "python"
    }
  },
  "cells": [
    {
      "cell_type": "code",
      "source": [
        "from collections import deque\n",
        "\n",
        "# Function to check if a state is the goal state\n",
        "def is_goal_state(state, goal):\n",
        "    return state == goal\n",
        "\n",
        "# Function to generate neighboring states by swapping adjacent numbers\n",
        "def generate_neighbors(state):\n",
        "    neighbors = []\n",
        "    for i in range(len(state) - 1):\n",
        "        neighbor = list(state)  # Convert the tuple back to a list to modify it\n",
        "        neighbor[i], neighbor[i + 1] = neighbor[i + 1], neighbor[i]  # Swap adjacent numbers\n",
        "        neighbors.append(tuple(neighbor))  # Convert the list back to a tuple\n",
        "    return neighbors\n",
        "\n",
        "# Function to perform BFS\n",
        "def bfs(start, goal):\n",
        "    start = tuple(start)  # Convert the start state to a tuple\n",
        "    goal = tuple(goal)    # Convert the goal state to a tuple\n",
        "    queue = deque([(start, [start])])\n",
        "    visited = set()\n",
        "\n",
        "    while queue:\n",
        "        current_state, path = queue.popleft()\n",
        "        if is_goal_state(current_state, goal):\n",
        "            return list(path)  # Convert the path back to a list before returning\n",
        "        if current_state not in visited:\n",
        "            visited.add(current_state)\n",
        "            neighbors = generate_neighbors(current_state)\n",
        "            for neighbor in neighbors:\n",
        "                queue.append((neighbor, path + [neighbor]))\n",
        "\n",
        "# Example input\n",
        "start_state = [3, 4, 2 , 5 , 1]\n",
        "goal_state = [1, 2, 3 , 4 , 5]\n",
        "\n",
        "# Perform BFS\n",
        "path = bfs(start_state, goal_state)\n",
        "\n",
        "# Print the path from start to goal\n",
        "print(\"Path from start to goal (BFS):\", path)\n"
      ],
      "metadata": {
        "colab": {
          "base_uri": "https://localhost:8080/"
        },
        "id": "6Z2AjqaUjBJZ",
        "outputId": "ac2b7de8-c339-4c69-b327-c463cc6f6e31"
      },
      "execution_count": 26,
      "outputs": [
        {
          "output_type": "stream",
          "name": "stdout",
          "text": [
            "Path from start to goal (BFS): [(3, 4, 2, 5, 1), (3, 2, 4, 5, 1), (2, 3, 4, 5, 1), (2, 3, 4, 1, 5), (2, 3, 1, 4, 5), (2, 1, 3, 4, 5), (1, 2, 3, 4, 5)]\n"
          ]
        }
      ]
    },
    {
      "cell_type": "code",
      "source": [
        "# Function to perform Depth-First Search (DFS)\n",
        "def dfs(start, goal):\n",
        "    start = tuple(start)  # Convert the start state to a tuple\n",
        "    goal = tuple(goal)    # Convert the goal state to a tuple\n",
        "    stack = [(start, [start])]\n",
        "    visited = set()\n",
        "\n",
        "    while stack:\n",
        "        current_state, path = stack.pop()\n",
        "        if is_goal_state(current_state, goal):\n",
        "            return list(path)  # Convert the path back to a list before returning\n",
        "        if current_state not in visited:\n",
        "            visited.add(current_state)\n",
        "            neighbors = generate_neighbors(current_state)\n",
        "            for neighbor in neighbors:\n",
        "                stack.append((neighbor, path + [neighbor]))\n",
        "\n",
        "# Example input\n",
        "start_state = [3, 4, 2 , 5 , 1]\n",
        "goal_state = [1, 2, 3 , 4 , 5]\n",
        "\n",
        "# Perform DFS\n",
        "path = dfs(start_state, goal_state)\n",
        "\n",
        "# Print the path from start to goal\n",
        "print(\"Path from start to goal (DFS):\", path)\n"
      ],
      "metadata": {
        "colab": {
          "base_uri": "https://localhost:8080/"
        },
        "id": "N82ikUPpjQfQ",
        "outputId": "01407824-6239-439d-9a86-bfff95aac412"
      },
      "execution_count": 27,
      "outputs": [
        {
          "output_type": "stream",
          "name": "stdout",
          "text": [
            "Path from start to goal (DFS): [(3, 4, 2, 5, 1), (3, 4, 2, 1, 5), (3, 4, 1, 2, 5), (3, 4, 1, 5, 2), (3, 4, 5, 1, 2), (3, 4, 5, 2, 1), (3, 5, 4, 2, 1), (3, 5, 4, 1, 2), (3, 5, 1, 4, 2), (3, 5, 1, 2, 4), (3, 5, 2, 1, 4), (3, 5, 2, 4, 1), (3, 2, 5, 4, 1), (3, 2, 5, 1, 4), (3, 2, 1, 5, 4), (3, 2, 1, 4, 5), (3, 2, 4, 1, 5), (3, 2, 4, 5, 1), (2, 3, 4, 5, 1), (2, 3, 4, 1, 5), (2, 3, 1, 4, 5), (2, 3, 1, 5, 4), (2, 3, 5, 1, 4), (2, 3, 5, 4, 1), (2, 5, 3, 4, 1), (2, 5, 3, 1, 4), (2, 5, 1, 3, 4), (2, 5, 1, 4, 3), (2, 5, 4, 1, 3), (2, 5, 4, 3, 1), (2, 4, 5, 3, 1), (2, 4, 5, 1, 3), (2, 4, 1, 5, 3), (2, 4, 1, 3, 5), (2, 4, 3, 1, 5), (2, 4, 3, 5, 1), (4, 2, 3, 5, 1), (4, 2, 3, 1, 5), (4, 2, 1, 3, 5), (4, 2, 1, 5, 3), (4, 2, 5, 1, 3), (4, 2, 5, 3, 1), (4, 5, 2, 3, 1), (4, 5, 2, 1, 3), (4, 5, 1, 2, 3), (4, 5, 1, 3, 2), (4, 5, 3, 1, 2), (4, 5, 3, 2, 1), (4, 3, 5, 2, 1), (4, 3, 5, 1, 2), (4, 3, 1, 5, 2), (4, 3, 1, 2, 5), (4, 1, 3, 2, 5), (4, 1, 3, 5, 2), (4, 1, 5, 3, 2), (4, 1, 5, 2, 3), (4, 1, 2, 5, 3), (4, 1, 2, 3, 5), (1, 4, 2, 3, 5), (1, 4, 2, 5, 3), (1, 4, 5, 2, 3), (1, 4, 5, 3, 2), (1, 4, 3, 5, 2), (1, 4, 3, 2, 5), (1, 3, 4, 2, 5), (1, 3, 4, 5, 2), (1, 3, 5, 4, 2), (1, 3, 5, 2, 4), (1, 3, 2, 5, 4), (1, 3, 2, 4, 5), (1, 2, 3, 4, 5)]\n"
          ]
        }
      ]
    },
    {
      "cell_type": "code",
      "source": [
        "# Function to perform Iterative Deepening Depth-First Search (IDDFS)\n",
        "def iddfs(start, goal):\n",
        "    goal = tuple(goal)  # Convert the goal state to a tuple\n",
        "    max_depth = 0\n",
        "\n",
        "    while True:\n",
        "        visited = set()\n",
        "        stack = [(tuple(start), [tuple(start)])]\n",
        "\n",
        "        while stack:\n",
        "            current_state, path = stack.pop()\n",
        "            if current_state == goal:\n",
        "                return list(path)  # Convert the path back to a list before returning\n",
        "\n",
        "            if len(path) <= max_depth:\n",
        "                for neighbor in generate_neighbors(current_state):\n",
        "                    if neighbor not in visited:\n",
        "                        visited.add(neighbor)\n",
        "                        stack.append((neighbor, path + [neighbor]))\n",
        "\n",
        "        max_depth += 1  # Increase the maximum depth for the next iteration\n",
        "\n",
        "# Example input\n",
        "start_state = [3, 4, 2 , 5 , 1]\n",
        "goal_state = [1, 2, 3,4 ,5]\n",
        "\n",
        "# Perform IDDFS\n",
        "path = iddfs(start_state, goal_state)\n",
        "\n",
        "# Print the path from start to goal\n",
        "print(\"Path from start to goal (IDDFS):\", path)\n"
      ],
      "metadata": {
        "colab": {
          "base_uri": "https://localhost:8080/"
        },
        "id": "c7A2QAFGzWyM",
        "outputId": "be22cf90-0488-4885-f9d0-9b5982295f7c"
      },
      "execution_count": 28,
      "outputs": [
        {
          "output_type": "stream",
          "name": "stdout",
          "text": [
            "Path from start to goal (IDDFS): [(3, 4, 2, 5, 1), (3, 4, 2, 1, 5), (3, 4, 1, 2, 5), (3, 1, 4, 2, 5), (3, 1, 2, 4, 5), (1, 3, 2, 4, 5), (1, 2, 3, 4, 5)]\n"
          ]
        }
      ]
    },
    {
      "cell_type": "code",
      "source": [
        "import heapq\n",
        "\n",
        "# Function to perform Uniform Cost Search (UCS)\n",
        "def ucs(start, goal):\n",
        "    start = tuple(start)  # Convert the start state to a tuple\n",
        "    goal = tuple(goal)    # Convert the goal state to a tuple\n",
        "    priority_queue = [(0, start, [start])]  # (cost, state, path)\n",
        "    visited = set()\n",
        "\n",
        "    while priority_queue:\n",
        "        cost, current_state, path = heapq.heappop(priority_queue)\n",
        "        if current_state == goal:\n",
        "            return path\n",
        "        if current_state not in visited:\n",
        "            visited.add(current_state)\n",
        "            neighbors = generate_neighbors(list(current_state))  # Convert to list before generating neighbors\n",
        "            for neighbor in neighbors:\n",
        "                if tuple(neighbor) not in visited:\n",
        "                    new_cost = cost + 1  # Assuming unit cost for transitions\n",
        "                    heapq.heappush(priority_queue, (new_cost, tuple(neighbor), path + [neighbor]))\n",
        "\n",
        "# Example input\n",
        "start_state = [3, 4, 2 , 5 , 1]\n",
        "goal_state = [1, 2, 3 , 4 , 5]\n",
        "\n",
        "# Perform UCS\n",
        "path = ucs(start_state, goal_state)\n",
        "\n",
        "# Print the path from start to goal\n",
        "print(\"Path from start to goal (UCS):\", path)\n"
      ],
      "metadata": {
        "colab": {
          "base_uri": "https://localhost:8080/"
        },
        "id": "J_V01ru92oLM",
        "outputId": "f643679e-4456-4431-bd6b-63a8cfcde617"
      },
      "execution_count": 29,
      "outputs": [
        {
          "output_type": "stream",
          "name": "stdout",
          "text": [
            "Path from start to goal (UCS): [(3, 4, 2, 5, 1), (3, 2, 4, 5, 1), (2, 3, 4, 5, 1), (2, 3, 4, 1, 5), (2, 3, 1, 4, 5), (2, 1, 3, 4, 5), (1, 2, 3, 4, 5)]\n"
          ]
        }
      ]
    },
    {
      "cell_type": "code",
      "source": [
        "import heapq\n",
        "\n",
        "# Function to calculate the heuristic estimate (number of misplaced elements)\n",
        "def heuristic_estimate(state, goal):\n",
        "    return sum(1 for i, j in zip(state, goal) if i != j)\n",
        "\n",
        "# Function to perform Greedy Best-First Search\n",
        "def greedy_best_first(start, goal):\n",
        "    start = tuple(start)  # Convert the start state to a tuple\n",
        "    goal = tuple(goal)    # Convert the goal state to a tuple\n",
        "    priority_queue = [(heuristic_estimate(start, goal), start, [start])]  # (h, state, path)\n",
        "    visited = set()\n",
        "\n",
        "    while priority_queue:\n",
        "        _, current_state, path = heapq.heappop(priority_queue)\n",
        "        if current_state == goal:\n",
        "            return path\n",
        "        if current_state not in visited:\n",
        "            visited.add(current_state)\n",
        "            neighbors = generate_neighbors(list(current_state))  # Convert to list before generating neighbors\n",
        "            for neighbor in neighbors:\n",
        "                if tuple(neighbor) not in visited:\n",
        "                    heapq.heappush(priority_queue, (heuristic_estimate(neighbor, goal), tuple(neighbor), path + [neighbor]))\n",
        "\n",
        "# Example input\n",
        "start_state = [3, 4, 2 , 5 , 1]\n",
        "goal_state = [1, 2, 3 , 4 , 5]\n",
        "\n",
        "# Perform Greedy Best-First Search\n",
        "path = greedy_best_first(start_state, goal_state)\n",
        "\n",
        "# Print the path from start to goal\n",
        "print(\"Path from start to goal (Greedy Best-First Search):\", path)\n"
      ],
      "metadata": {
        "colab": {
          "base_uri": "https://localhost:8080/"
        },
        "id": "Ix0gSbHb3vq-",
        "outputId": "913a5fab-308c-41a4-8e76-0863b72178f1"
      },
      "execution_count": 30,
      "outputs": [
        {
          "output_type": "stream",
          "name": "stdout",
          "text": [
            "Path from start to goal (Greedy Best-First Search): [(3, 4, 2, 5, 1), (3, 2, 4, 5, 1), (3, 2, 4, 1, 5), (3, 2, 1, 4, 5), (2, 3, 1, 4, 5), (2, 1, 3, 4, 5), (1, 2, 3, 4, 5)]\n"
          ]
        }
      ]
    },
    {
      "cell_type": "code",
      "source": [
        "import heapq\n",
        "\n",
        "# Function to calculate the heuristic estimate (number of misplaced elements)\n",
        "def heuristic_estimate(state, goal):\n",
        "    return sum(1 for i, j in zip(state, goal) if i != j)\n",
        "\n",
        "# Function to perform A* Search (combining UCS and Greedy Best-First)\n",
        "def astar(start, goal):\n",
        "    start = tuple(start)  # Convert the start state to a tuple\n",
        "    goal = tuple(goal)    # Convert the goal state to a tuple\n",
        "    priority_queue = [(heuristic_estimate(start, goal), 0, start, [start])]  # (h, g, state, path)\n",
        "    visited = set()\n",
        "\n",
        "    while priority_queue:\n",
        "        _, cost, current_state, path = heapq.heappop(priority_queue)\n",
        "        if current_state == goal:\n",
        "            return path\n",
        "        if current_state not in visited:\n",
        "            visited.add(current_state)\n",
        "            neighbors = generate_neighbors(list(current_state))  # Convert to list before generating neighbors\n",
        "            for neighbor in neighbors:\n",
        "                if tuple(neighbor) not in visited:\n",
        "                    new_cost = cost + 1  # Assuming unit cost for transitions\n",
        "                    f_value = new_cost + heuristic_estimate(neighbor, goal)\n",
        "                    heapq.heappush(priority_queue, (f_value, new_cost, tuple(neighbor), path + [neighbor]))\n",
        "\n",
        "# Example input\n",
        "start_state = [3, 4, 2 , 5 , 1]\n",
        "goal_state = [1, 2, 3 , 4 , 5]\n",
        "\n",
        "# Perform A* Search (combining UCS and Greedy Best-First)\n",
        "path = astar(start_state, goal_state)\n",
        "\n",
        "# Print the path from start to goal\n",
        "print(\"Path from start to goal (A*):\", path)\n"
      ],
      "metadata": {
        "colab": {
          "base_uri": "https://localhost:8080/"
        },
        "id": "5oycPvan4YPF",
        "outputId": "59fad5aa-2384-4958-f264-821e11c09142"
      },
      "execution_count": 31,
      "outputs": [
        {
          "output_type": "stream",
          "name": "stdout",
          "text": [
            "Path from start to goal (A*): [(3, 4, 2, 5, 1), (3, 2, 4, 5, 1), (3, 2, 4, 1, 5), (3, 2, 1, 4, 5), (3, 1, 2, 4, 5), (1, 3, 2, 4, 5), (1, 2, 3, 4, 5)]\n"
          ]
        }
      ]
    },
    {
      "cell_type": "code",
      "source": [
        "import random\n",
        "\n",
        "# Function to calculate the number of misplaced elements (elements not in their respective positions)\n",
        "def count_misplaced_elements(state, goal):\n",
        "    return sum(1 for i, j in zip(state, goal) if i != j)\n",
        "\n",
        "# Function to perform hill climbing search\n",
        "def hill_climbing(initial_state, max_iterations):\n",
        "    current_state = initial_state\n",
        "    current_value = count_misplaced_elements(current_state, goal_state)\n",
        "\n",
        "    for _ in range(max_iterations):\n",
        "        neighbor = generate_neighbors(current_state)\n",
        "        neighbor_value = count_misplaced_elements(neighbor, goal_state)\n",
        "\n",
        "        if neighbor_value <= current_value:\n",
        "            current_state = neighbor\n",
        "            current_value = neighbor_value\n",
        "\n",
        "    return current_state\n",
        "\n",
        "# Example input\n",
        "initial_state = [3, 1, 4 , 2 ,5]\n",
        "goal_state = [1, 2, 3 , 4 , 5]\n",
        "max_iterations = 1000\n",
        "\n",
        "# Perform hill climbing search\n",
        "final_state = hill_climbing(initial_state, max_iterations)\n",
        "\n",
        "# Print the final state\n",
        "print(\"Final state (Hill Climbing):\", final_state)\n"
      ],
      "metadata": {
        "colab": {
          "base_uri": "https://localhost:8080/"
        },
        "id": "OBvdPFDu5U34",
        "outputId": "ffd2f2a3-eb30-4d74-b9c1-a23322c38ce6"
      },
      "execution_count": 35,
      "outputs": [
        {
          "output_type": "stream",
          "name": "stdout",
          "text": [
            "Final state (Hill Climbing): []\n"
          ]
        }
      ]
    },
    {
      "cell_type": "code",
      "source": [
        "# Number of trials per 'n' value\n",
        "num_trials = 20\n",
        "\n",
        "# Different 'n' values\n",
        "n_values = [3, 4, 5, 6]\n",
        "\n",
        "# Initialize dictionaries to store results\n",
        "average_nodes_explored_bfs = {n: 0 for n in n_values}\n",
        "average_nodes_explored_dfs = {n: 0 for n in n_values}\n",
        "average_nodes_explored_iddfs = {n: 0 for n in n_values}\n",
        "average_nodes_explored_ucs = {n: 0 for n in n_values}\n",
        "average_nodes_explored_g = {n: 0 for n in n_values}\n",
        "average_nodes_explored_astar = {n: 0 for n in n_values}\n",
        "\n",
        "\n",
        "for n in n_values:\n",
        "    for _ in range(num_trials):\n",
        "        start_state = random.sample(range(1, n + 1), n)  # Generate a random permutation of size 'n'\n",
        "        goal_state = sorted(start_state)\n",
        "\n",
        "        # Run BFS\n",
        "        nodes_explored_bfs = len(bfs(start_state,goal_state))\n",
        "        average_nodes_explored_bfs[n] += nodes_explored_bfs\n",
        "        # Run DFS\n",
        "        nodes_explored_dfs = len(dfs(start_state,goal_state))\n",
        "        average_nodes_explored_dfs[n] += nodes_explored_dfs\n",
        "        # Run IDDFS\n",
        "        nodes_explored_iddfs = len(iddfs(start_state,goal_state))\n",
        "        average_nodes_explored_iddfs[n] += nodes_explored_iddfs\n",
        "        # Run UCS(cost minimising)\n",
        "        nodes_explored_ucs = len(ucs(start_state,goal_state))\n",
        "        average_nodes_explored_ucs[n] += nodes_explored_ucs\n",
        "        # Run greedy_best_first\n",
        "        nodes_explored_g = len(greedy_best_first(start_state,goal_state))\n",
        "        average_nodes_explored_g[n] += nodes_explored_g\n",
        "        # Run A*\n",
        "        nodes_explored_astar = len(astar(start_state,goal_state))\n",
        "        average_nodes_explored_astar[n] += nodes_explored_astar\n",
        "\n",
        "\n",
        "\n",
        "\n",
        "\n",
        "# Calculate the average number of nodes explored for each algorithm and 'n' value\n",
        "for n in n_values:\n",
        "    average_nodes_explored_bfs[n] /= num_trials\n",
        "    average_nodes_explored_dfs[n] /= num_trials\n",
        "    average_nodes_explored_iddfs[n] /= num_trials\n",
        "    average_nodes_explored_ucs[n] /= num_trials\n",
        "    average_nodes_explored_g[n] /= num_trials\n",
        "    average_nodes_explored_astar[n] /= num_trials\n",
        "\n",
        "# Print the results\n",
        "print(\"Average Nodes Explored (BFS):\", average_nodes_explored_bfs)\n",
        "print(\"Average Nodes Explored (DFS):\", average_nodes_explored_dfs)\n",
        "print(\"Average Nodes Explored (IDDFS):\", average_nodes_explored_iddfs)\n",
        "print(\"Average Nodes Explored (UCS):\", average_nodes_explored_ucs)\n",
        "print(\"Average Nodes Explored (Greedy):\", average_nodes_explored_g)\n",
        "print(\"Average Nodes Explored (A*):\", average_nodes_explored_astar)\n",
        "\n"
      ],
      "metadata": {
        "colab": {
          "base_uri": "https://localhost:8080/"
        },
        "id": "2WDrtdcN6OTb",
        "outputId": "44553fad-c742-4f1d-91b6-bd186b0968c7"
      },
      "execution_count": 33,
      "outputs": [
        {
          "output_type": "stream",
          "name": "stdout",
          "text": [
            "Average Nodes Explored (BFS): {3: 2.3, 4: 3.4, 5: 6.15, 6: 8.0}\n",
            "Average Nodes Explored (DFS): {3: 3.3, 4: 10.5, 5: 54.05, 6: 286.9}\n",
            "Average Nodes Explored (IDDFS): {3: 2.3, 4: 3.4, 5: 6.35, 6: 9.1}\n",
            "Average Nodes Explored (UCS): {3: 2.3, 4: 3.4, 5: 6.15, 6: 8.0}\n",
            "Average Nodes Explored (Greedy): {3: 2.3, 4: 3.4, 5: 6.25, 6: 9.0}\n",
            "Average Nodes Explored (A*): {3: 2.3, 4: 3.4, 5: 6.15, 6: 8.0}\n"
          ]
        }
      ]
    },
    {
      "cell_type": "code",
      "source": [
        "import random\n",
        "\n",
        "# Function to calculate the number of misplaced elements\n",
        "def count_misplaced_elements(state):\n",
        "    return sum(1 for i, j in enumerate(state, start=1) if i != j)\n",
        "\n",
        "# Function to generate neighboring states by swapping two adjacent elements\n",
        "def generate_neighbors(state):\n",
        "    neighbors = []\n",
        "    for i in range(len(state) - 1):\n",
        "        neighbor = state.copy()\n",
        "        neighbor[i], neighbor[i + 1] = neighbor[i + 1], neighbor[i]\n",
        "        neighbors.append(neighbor)\n",
        "    return neighbors\n",
        "\n",
        "# Hill Climbing algorithm to sort the given array\n",
        "def hill_climbing_sort(initial_state):\n",
        "    current_state = initial_state\n",
        "    current_misplaced_count = count_misplaced_elements(current_state)\n",
        "\n",
        "    while True:\n",
        "        neighbors = generate_neighbors(current_state)\n",
        "        best_neighbor = None\n",
        "        best_misplaced_count = current_misplaced_count\n",
        "\n",
        "        for neighbor in neighbors:\n",
        "            neighbor_misplaced_count = count_misplaced_elements(neighbor)\n",
        "            if neighbor_misplaced_count < best_misplaced_count:\n",
        "                best_neighbor = neighbor\n",
        "                best_misplaced_count = neighbor_misplaced_count\n",
        "\n",
        "        if best_misplaced_count >= current_misplaced_count:\n",
        "            return current_state  # Local minimum (sorted state) found\n",
        "\n",
        "        current_state = best_neighbor\n",
        "        current_misplaced_count = best_misplaced_count\n",
        "\n",
        "# Example input array\n",
        "initial_array = [3, 1, 4 , 2]\n",
        "\n",
        "# Apply Hill Climbing to sort the array\n",
        "sorted_array = hill_climbing_sort(initial_array)\n",
        "\n",
        "# Print the sorted array\n",
        "print(\"Sorted Array (Hill Climbing):\", sorted_array)\n"
      ],
      "metadata": {
        "colab": {
          "base_uri": "https://localhost:8080/"
        },
        "id": "RXWmBmug0wkT",
        "outputId": "9450e66e-afb9-4e64-c466-f223e8c46f1e"
      },
      "execution_count": 38,
      "outputs": [
        {
          "output_type": "stream",
          "name": "stdout",
          "text": [
            "Sorted Array (Hill Climbing): [1, 4, 3, 2]\n"
          ]
        }
      ]
    },
    {
      "cell_type": "code",
      "source": [
        "num_trials = 5\n",
        "for n in n_values:\n",
        "    for _ in range(num_trials):\n",
        "        start_state = random.sample(range(1, n + 1), n)\n",
        "        print(\"Final State of Hill Climbing given start state is:\",start_state,hill_climbing_sort(start_state))\n",
        ""
      ],
      "metadata": {
        "colab": {
          "base_uri": "https://localhost:8080/"
        },
        "id": "HPEG-l_Eq7eN",
        "outputId": "d824185a-cdb1-4960-e376-2345c559cb2c"
      },
      "execution_count": 41,
      "outputs": [
        {
          "output_type": "stream",
          "name": "stdout",
          "text": [
            "Final State of Hill Climbing given start state is: [2, 3, 1] [3, 2, 1]\n",
            "Final State of Hill Climbing given start state is: [2, 3, 1] [3, 2, 1]\n",
            "Final State of Hill Climbing given start state is: [1, 3, 2] [1, 2, 3]\n",
            "Final State of Hill Climbing given start state is: [3, 1, 2] [1, 2, 3]\n",
            "Final State of Hill Climbing given start state is: [2, 1, 3] [1, 2, 3]\n",
            "Final State of Hill Climbing given start state is: [2, 3, 4, 1] [3, 2, 1, 4]\n",
            "Final State of Hill Climbing given start state is: [1, 4, 3, 2] [1, 4, 3, 2]\n",
            "Final State of Hill Climbing given start state is: [4, 3, 2, 1] [4, 2, 3, 1]\n",
            "Final State of Hill Climbing given start state is: [1, 3, 4, 2] [1, 4, 3, 2]\n",
            "Final State of Hill Climbing given start state is: [2, 4, 3, 1] [4, 2, 3, 1]\n",
            "Final State of Hill Climbing given start state is: [1, 4, 3, 2, 5] [1, 4, 3, 2, 5]\n",
            "Final State of Hill Climbing given start state is: [1, 2, 5, 4, 3] [1, 2, 5, 4, 3]\n",
            "Final State of Hill Climbing given start state is: [1, 3, 4, 5, 2] [1, 4, 3, 2, 5]\n",
            "Final State of Hill Climbing given start state is: [3, 4, 2, 5, 1] [3, 2, 5, 4, 1]\n",
            "Final State of Hill Climbing given start state is: [1, 5, 4, 2, 3] [1, 2, 5, 4, 3]\n",
            "Final State of Hill Climbing given start state is: [2, 6, 5, 1, 3, 4] [6, 2, 5, 1, 3, 4]\n",
            "Final State of Hill Climbing given start state is: [6, 1, 5, 2, 4, 3] [1, 6, 5, 4, 2, 3]\n",
            "Final State of Hill Climbing given start state is: [6, 3, 4, 2, 1, 5] [6, 4, 3, 2, 5, 1]\n",
            "Final State of Hill Climbing given start state is: [5, 6, 4, 2, 1, 3] [5, 2, 6, 4, 1, 3]\n",
            "Final State of Hill Climbing given start state is: [5, 4, 3, 6, 2, 1] [5, 4, 3, 6, 2, 1]\n"
          ]
        }
      ]
    }
  ]
}